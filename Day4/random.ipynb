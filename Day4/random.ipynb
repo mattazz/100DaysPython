{
 "cells": [
  {
   "cell_type": "markdown",
   "metadata": {},
   "source": [
    "## Learning random numbers"
   ]
  },
  {
   "cell_type": "code",
   "execution_count": 1,
   "metadata": {},
   "outputs": [],
   "source": [
    "import random\n",
    "import pi"
   ]
  },
  {
   "cell_type": "code",
   "execution_count": 2,
   "metadata": {},
   "outputs": [
    {
     "name": "stdout",
     "output_type": "stream",
     "text": [
      "Random number: 26\n"
     ]
    }
   ],
   "source": [
    "# Random integer module\n",
    "num = random.randint(0,100)\n",
    "print(f\"Random number: {num}\")"
   ]
  },
  {
   "cell_type": "code",
   "execution_count": 3,
   "metadata": {},
   "outputs": [
    {
     "name": "stdout",
     "output_type": "stream",
     "text": [
      "imported module Pi: 3.14159246\n"
     ]
    }
   ],
   "source": [
    "# Importing my module\n",
    "pi = pi.pi\n",
    "print(f\"imported module Pi: {pi}\")"
   ]
  },
  {
   "cell_type": "code",
   "execution_count": 4,
   "metadata": {},
   "outputs": [
    {
     "name": "stdout",
     "output_type": "stream",
     "text": [
      "Random.random: 0.2577541261707773\n"
     ]
    }
   ],
   "source": [
    "# random.random() prints out floats from 0 - 1\n",
    "num_float = random.random()\n",
    "print(f\"Random.random: {num_float}\")"
   ]
  },
  {
   "cell_type": "code",
   "execution_count": 5,
   "metadata": {},
   "outputs": [
    {
     "name": "stdout",
     "output_type": "stream",
     "text": [
      "random decimal number from 0 - 100: 16.69848561289488\n",
      "random number rounded 2 decimal places: 16.7\n"
     ]
    }
   ],
   "source": [
    "# Creating a random decimal number\n",
    "dec_num = random.randint(0,100) + random.random()\n",
    "print(f\"random decimal number from 0 - 100: {dec_num}\")\n",
    "print(f\"random number rounded 2 decimal places: {round(dec_num, 2)}\")"
   ]
  },
  {
   "cell_type": "markdown",
   "metadata": {},
   "source": [
    "# Virtual Coin Toss exercise"
   ]
  },
  {
   "cell_type": "code",
   "execution_count": 6,
   "metadata": {},
   "outputs": [
    {
     "name": "stdout",
     "output_type": "stream",
     "text": [
      "Virtual coin toss: \n",
      "You flipped tails.\n"
     ]
    }
   ],
   "source": [
    "print(f\"Virtual coin toss: \")\n",
    "ran_num = random.randint(0,1)\n",
    "# print(f\"ran_num: {ran_num}\")\n",
    "match ran_num:\n",
    "    case 0:\n",
    "        print(f\"You flipped heads\")\n",
    "    case 1:\n",
    "        print(f\"You flipped tails.\")"
   ]
  }
 ],
 "metadata": {
  "kernelspec": {
   "display_name": "Python 3",
   "language": "python",
   "name": "python3"
  },
  "language_info": {
   "codemirror_mode": {
    "name": "ipython",
    "version": 3
   },
   "file_extension": ".py",
   "mimetype": "text/x-python",
   "name": "python",
   "nbconvert_exporter": "python",
   "pygments_lexer": "ipython3",
   "version": "3.11.4"
  }
 },
 "nbformat": 4,
 "nbformat_minor": 2
}
