{
 "cells": [
  {
   "cell_type": "markdown",
   "metadata": {},
   "source": [
    "## Learning random numbers"
   ]
  },
  {
   "cell_type": "code",
   "execution_count": 20,
   "metadata": {},
   "outputs": [],
   "source": [
    "import random\n",
    "import pi"
   ]
  },
  {
   "cell_type": "code",
   "execution_count": 21,
   "metadata": {},
   "outputs": [
    {
     "name": "stdout",
     "output_type": "stream",
     "text": [
      "Random number: 98\n"
     ]
    }
   ],
   "source": [
    "# Random integer module\n",
    "num = random.randint(0,100)\n",
    "print(f\"Random number: {num}\")"
   ]
  },
  {
   "cell_type": "code",
   "execution_count": 22,
   "metadata": {},
   "outputs": [
    {
     "name": "stdout",
     "output_type": "stream",
     "text": [
      "Pi: 3.14159246\n"
     ]
    }
   ],
   "source": [
    "# Importing my module\n",
    "pi = pi.pi\n",
    "print(f\"imported module Pi: {pi}\")"
   ]
  },
  {
   "cell_type": "code",
   "execution_count": 23,
   "metadata": {},
   "outputs": [
    {
     "name": "stdout",
     "output_type": "stream",
     "text": [
      "Random.random: 0.3707507853986155\n"
     ]
    }
   ],
   "source": [
    "# random.random() prints out floats from 0 - 1\n",
    "num_float = random.random()\n",
    "print(f\"Random.random: {num_float}\")"
   ]
  },
  {
   "cell_type": "code",
   "execution_count": 24,
   "metadata": {},
   "outputs": [
    {
     "name": "stdout",
     "output_type": "stream",
     "text": [
      "random decimal number from 0 - 100: 27.99529000765951\n",
      "random number rounded 2 decimal places: 28.0\n"
     ]
    }
   ],
   "source": [
    "# Creating a random decimal number\n",
    "dec_num = random.randint(0,100) + random.random()\n",
    "print(f\"random decimal number from 0 - 100: {dec_num}\")\n",
    "print(f\"random number rounded 2 decimal places: {round(dec_num, 2)}\")"
   ]
  }
 ],
 "metadata": {
  "kernelspec": {
   "display_name": "Python 3",
   "language": "python",
   "name": "python3"
  },
  "language_info": {
   "codemirror_mode": {
    "name": "ipython",
    "version": 3
   },
   "file_extension": ".py",
   "mimetype": "text/x-python",
   "name": "python",
   "nbconvert_exporter": "python",
   "pygments_lexer": "ipython3",
   "version": "3.11.4"
  }
 },
 "nbformat": 4,
 "nbformat_minor": 2
}
