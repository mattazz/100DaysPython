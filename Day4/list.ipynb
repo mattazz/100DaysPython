{
 "cells": [
  {
   "cell_type": "markdown",
   "metadata": {},
   "source": [
    "# Learning lists\n",
    "- Lists are heterogenous\n",
    "- Lists are mutable in python"
   ]
  },
  {
   "cell_type": "code",
   "execution_count": 54,
   "metadata": {},
   "outputs": [
    {
     "name": "stdout",
     "output_type": "stream",
     "text": [
      "Fruit pick: Watermelon\n"
     ]
    }
   ],
   "source": [
    "import random\n",
    "\n",
    "fruits = [\"Apple\", \"Orange\", \"Mango\", \"Grape\", \"Pineapple\", \"Strawberry\", \"Banana\", \"Watermelon\", \"Kiwi\", \"Peach\"]\n",
    "# randrange is useful here since it disregards the last number \n",
    "# ie. randrange(0, 5) == 0 - 4\n",
    "# Unlike randint(0,5) which will output 0 - 5 (index out of bounds for the list)\n",
    "pick = random.randrange(0, len(fruits))\n",
    "print(f\"Fruit pick: {fruits[pick]}\")"
   ]
  },
  {
   "cell_type": "code",
   "execution_count": 55,
   "metadata": {},
   "outputs": [
    {
     "name": "stdout",
     "output_type": "stream",
     "text": [
      "Last on the list is fruits[-1]: Peach\n"
     ]
    }
   ],
   "source": [
    "last_on_the_list = fruits[-1]\n",
    "print(f\"Last on the list is fruits[-1]: {last_on_the_list}\")"
   ]
  },
  {
   "cell_type": "code",
   "execution_count": 56,
   "metadata": {},
   "outputs": [
    {
     "name": "stdout",
     "output_type": "stream",
     "text": [
      "['Apple', 'Orange', 'Mango', 'Grape', 'Pineapple', 'Strawberry', 'Banana', 'Watermelon', 'Kiwi', 'Peach']\n",
      "['Strawberry', 'Orange', 'Mango', 'Grape', 'Pineapple', 'Strawberry', 'Banana', 'Watermelon', 'Kiwi', 'Peach']\n"
     ]
    }
   ],
   "source": [
    "# Changing elements in the list\n",
    "print(fruits)\n",
    "fruits[0] = \"Strawberry\"\n",
    "print(fruits)"
   ]
  },
  {
   "cell_type": "code",
   "execution_count": 57,
   "metadata": {},
   "outputs": [
    {
     "name": "stdout",
     "output_type": "stream",
     "text": [
      "['Apple', 'Mango', 'Pineapple', 'Banana', 'Kiwi']\n"
     ]
    }
   ],
   "source": [
    "# Printing lists in steps\n",
    "fruits[0] = \"Apple\" # setting it back\n",
    "print(fruits[0:-1:2]) # This will print the fruits in steps of two"
   ]
  },
  {
   "cell_type": "code",
   "execution_count": 58,
   "metadata": {},
   "outputs": [
    {
     "name": "stdout",
     "output_type": "stream",
     "text": [
      "['Jaguar']\n",
      "['Jaguar', 'Python', 'Elephant']\n"
     ]
    }
   ],
   "source": [
    "# Using the extend function\n",
    "animals = [\"Jaguar\"]\n",
    "print(animals)\n",
    "animals.extend([\"Python\", \"Elephant\"])\n",
    "print(animals)"
   ]
  },
  {
   "cell_type": "code",
   "execution_count": 59,
   "metadata": {},
   "outputs": [
    {
     "name": "stdout",
     "output_type": "stream",
     "text": [
      "['Jaguar', 'Python', 'Elephant']\n",
      "['Baboon', 'Jaguar', 'Python', 'Elephant']\n"
     ]
    }
   ],
   "source": [
    "# Using the insert function to add to index 0 of the list\n",
    "print(animals)\n",
    "animals.insert(0, \"Baboon\")\n",
    "print(animals)\n"
   ]
  }
 ],
 "metadata": {
  "kernelspec": {
   "display_name": "Python 3",
   "language": "python",
   "name": "python3"
  },
  "language_info": {
   "codemirror_mode": {
    "name": "ipython",
    "version": 3
   },
   "file_extension": ".py",
   "mimetype": "text/x-python",
   "name": "python",
   "nbconvert_exporter": "python",
   "pygments_lexer": "ipython3",
   "version": "3.11.4"
  }
 },
 "nbformat": 4,
 "nbformat_minor": 2
}
