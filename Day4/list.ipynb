{
 "cells": [
  {
   "cell_type": "markdown",
   "metadata": {},
   "source": [
    "# Learning lists\n",
    "- Lists are heterogenous\n",
    "- Lists are mutable in python"
   ]
  },
  {
   "cell_type": "code",
   "execution_count": 95,
   "metadata": {},
   "outputs": [
    {
     "name": "stdout",
     "output_type": "stream",
     "text": [
      "Fruit pick: Kiwi\n"
     ]
    }
   ],
   "source": [
    "import random\n",
    "\n",
    "fruits = [\"Apple\", \"Orange\", \"Mango\", \"Grape\", \"Pineapple\", \"Strawberry\", \"Banana\", \"Watermelon\", \"Kiwi\", \"Peach\"]\n",
    "# randrange is useful here since it disregards the last number \n",
    "# ie. randrange(0, 5) == 0 - 4\n",
    "# Unlike randint(0,5) which will output 0 - 5 (index out of bounds for the list)\n",
    "pick = random.randrange(0, len(fruits))\n",
    "print(f\"Fruit pick: {fruits[pick]}\")"
   ]
  },
  {
   "cell_type": "code",
   "execution_count": 96,
   "metadata": {},
   "outputs": [
    {
     "name": "stdout",
     "output_type": "stream",
     "text": [
      "Last on the list is fruits[-1]: Peach\n"
     ]
    }
   ],
   "source": [
    "last_on_the_list = fruits[-1]\n",
    "print(f\"Last on the list is fruits[-1]: {last_on_the_list}\")"
   ]
  },
  {
   "cell_type": "code",
   "execution_count": 97,
   "metadata": {},
   "outputs": [
    {
     "name": "stdout",
     "output_type": "stream",
     "text": [
      "['Apple', 'Orange', 'Mango', 'Grape', 'Pineapple', 'Strawberry', 'Banana', 'Watermelon', 'Kiwi', 'Peach']\n",
      "['Strawberry', 'Orange', 'Mango', 'Grape', 'Pineapple', 'Strawberry', 'Banana', 'Watermelon', 'Kiwi', 'Peach']\n"
     ]
    }
   ],
   "source": [
    "# Changing elements in the list\n",
    "print(fruits)\n",
    "fruits[0] = \"Strawberry\"\n",
    "print(fruits)"
   ]
  },
  {
   "cell_type": "code",
   "execution_count": 98,
   "metadata": {},
   "outputs": [
    {
     "name": "stdout",
     "output_type": "stream",
     "text": [
      "['Apple', 'Mango', 'Pineapple', 'Banana', 'Kiwi']\n"
     ]
    }
   ],
   "source": [
    "# Printing lists in steps\n",
    "fruits[0] = \"Apple\" # setting it back\n",
    "print(fruits[0:-1:2]) # This will print the fruits in steps of two"
   ]
  },
  {
   "cell_type": "code",
   "execution_count": 99,
   "metadata": {},
   "outputs": [
    {
     "name": "stdout",
     "output_type": "stream",
     "text": [
      "['Jaguar']\n",
      "['Jaguar', 'Python', 'Elephant']\n"
     ]
    }
   ],
   "source": [
    "# Using the extend function\n",
    "animals = [\"Jaguar\"]\n",
    "print(animals)\n",
    "animals.extend([\"Python\", \"Elephant\"])\n",
    "print(animals)"
   ]
  },
  {
   "cell_type": "code",
   "execution_count": 100,
   "metadata": {},
   "outputs": [
    {
     "name": "stdout",
     "output_type": "stream",
     "text": [
      "['Jaguar', 'Python', 'Elephant']\n",
      "['Baboon', 'Jaguar', 'Python', 'Elephant']\n"
     ]
    }
   ],
   "source": [
    "# Using the insert function to add to index 0 of the list\n",
    "print(animals)\n",
    "animals.insert(0, \"Baboon\")\n",
    "print(animals)\n"
   ]
  },
  {
   "cell_type": "code",
   "execution_count": 101,
   "metadata": {},
   "outputs": [
    {
     "name": "stdout",
     "output_type": "stream",
     "text": [
      "Nested list: [[1, 2, 3], [4, 5, 6], [7, 8, 9]]\n",
      "Nested list nested[0]: [1, 2, 3]\n",
      "Nested list nested[0][0]: 1\n",
      "Enumerating on a list and the nested list inside it\n",
      "index 0, val: [1, 2, 3]\n",
      "index 0, val: 1\n",
      "index 1, val: 2\n",
      "index 2, val: 3\n",
      "index 1, val: [4, 5, 6]\n",
      "index 0, val: 4\n",
      "index 1, val: 5\n",
      "index 2, val: 6\n",
      "index 2, val: [7, 8, 9]\n",
      "index 0, val: 7\n",
      "index 1, val: 8\n",
      "index 2, val: 9\n"
     ]
    }
   ],
   "source": [
    "# Nested lists\n",
    "nested = [[1, 2, 3], [4, 5, 6], [7, 8, 9]]\n",
    "print(f\"Nested list: {nested}\")\n",
    "print(f\"Nested list nested[0]: {nested[0]}\")\n",
    "print(f\"Nested list nested[0][0]: {nested[0][0]}\")\n",
    "\n",
    "# Enumerate all of the lists\n",
    "print(f\"Enumerating on a list and the nested list inside it\")\n",
    "for i, v in enumerate(nested): # Enumerate on the outer list\n",
    "    print(f\"index {i}, val: {v}\") \n",
    "    for k, j in enumerate(v): # Access the inner list index and enumerate on the inner list\n",
    "        print(f\"index {k}, val: {j}\")"
   ]
  }
 ],
 "metadata": {
  "kernelspec": {
   "display_name": "Python 3",
   "language": "python",
   "name": "python3"
  },
  "language_info": {
   "codemirror_mode": {
    "name": "ipython",
    "version": 3
   },
   "file_extension": ".py",
   "mimetype": "text/x-python",
   "name": "python",
   "nbconvert_exporter": "python",
   "pygments_lexer": "ipython3",
   "version": "3.11.4"
  }
 },
 "nbformat": 4,
 "nbformat_minor": 2
}
