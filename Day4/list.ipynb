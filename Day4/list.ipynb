{
 "cells": [
  {
   "cell_type": "markdown",
   "metadata": {},
   "source": [
    "# Learning lists\n",
    "- Lists are heterogenous"
   ]
  },
  {
   "cell_type": "code",
   "execution_count": 17,
   "metadata": {},
   "outputs": [
    {
     "name": "stdout",
     "output_type": "stream",
     "text": [
      "Fruits pick: Mango\n"
     ]
    }
   ],
   "source": [
    "import random\n",
    "\n",
    "fruits = [\"Apple\", \"Orange\", \"Mango\", \"Grape\"]\n",
    "# randrange is useful here since it disregards the last number \n",
    "# ie. randrange(0, 5) == 0 - 4\n",
    "# Unlike randint(0,5) which will output 0 - 5 (index out of bounds for the list)\n",
    "pick = random.randrange(0, len(fruits))\n",
    "print(f\"Fruit pick: {fruits[pick]}\")"
   ]
  }
 ],
 "metadata": {
  "kernelspec": {
   "display_name": "Python 3",
   "language": "python",
   "name": "python3"
  },
  "language_info": {
   "codemirror_mode": {
    "name": "ipython",
    "version": 3
   },
   "file_extension": ".py",
   "mimetype": "text/x-python",
   "name": "python",
   "nbconvert_exporter": "python",
   "pygments_lexer": "ipython3",
   "version": "3.11.4"
  }
 },
 "nbformat": 4,
 "nbformat_minor": 2
}
