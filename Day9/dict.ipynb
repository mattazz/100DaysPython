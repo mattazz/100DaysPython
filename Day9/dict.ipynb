{
 "cells": [
  {
   "cell_type": "markdown",
   "metadata": {},
   "source": [
    "# Dictionaries\n",
    "Always in {key, value} pairs"
   ]
  },
  {
   "cell_type": "code",
   "execution_count": 64,
   "metadata": {},
   "outputs": [
    {
     "name": "stdout",
     "output_type": "stream",
     "text": [
      "{'name': 'Matthew', 'age': '32', 'job': 'Programmer'}\n"
     ]
    }
   ],
   "source": [
    "person ={\n",
    "    \"name\": \"Matthew\",\n",
    "    \"age\": \"32\",\n",
    "    \"job\": \"Programmer\"\n",
    "}\n",
    "\n",
    "print(person)"
   ]
  },
  {
   "cell_type": "code",
   "execution_count": 65,
   "metadata": {},
   "outputs": [
    {
     "name": "stdout",
     "output_type": "stream",
     "text": [
      "Matthew\n",
      "32\n",
      "Programmer\n"
     ]
    }
   ],
   "source": [
    "# You can print specific elements by calling the key\n",
    "\n",
    "print(person[\"name\"])\n",
    "print(person[\"age\"])\n",
    "print(person[\"job\"])"
   ]
  },
  {
   "cell_type": "markdown",
   "metadata": {},
   "source": [
    "## Deconstructing\n",
    "You can deconstruct dictionaries and separate their key and value pairs"
   ]
  },
  {
   "cell_type": "code",
   "execution_count": 66,
   "metadata": {},
   "outputs": [
    {
     "name": "stdout",
     "output_type": "stream",
     "text": [
      "name\n",
      "Matthew\n",
      "name Matthew\n",
      "age\n",
      "32\n",
      "age 32\n",
      "job\n",
      "Programmer\n",
      "job Programmer\n"
     ]
    }
   ],
   "source": [
    "for i,v in person.items():\n",
    "    print(i, v)"
   ]
  }
 ],
 "metadata": {
  "kernelspec": {
   "display_name": "Python 3",
   "language": "python",
   "name": "python3"
  },
  "language_info": {
   "codemirror_mode": {
    "name": "ipython",
    "version": 3
   },
   "file_extension": ".py",
   "mimetype": "text/x-python",
   "name": "python",
   "nbconvert_exporter": "python",
   "pygments_lexer": "ipython3",
   "version": "3.11.4"
  }
 },
 "nbformat": 4,
 "nbformat_minor": 2
}
