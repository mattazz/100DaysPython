{
 "cells": [
  {
   "cell_type": "markdown",
   "metadata": {},
   "source": [
    "# Dictionaries\n",
    "Always in {key, value} pairs"
   ]
  },
  {
   "cell_type": "code",
   "execution_count": 102,
   "metadata": {},
   "outputs": [
    {
     "name": "stdout",
     "output_type": "stream",
     "text": [
      "{'name': 'Matthew', 'age': '32', 'job': 'Programmer'}\n"
     ]
    }
   ],
   "source": [
    "person ={\n",
    "    \"name\": \"Matthew\",\n",
    "    \"age\": \"32\",\n",
    "    \"job\": \"Programmer\"\n",
    "}\n",
    "\n",
    "print(person)"
   ]
  },
  {
   "cell_type": "code",
   "execution_count": 103,
   "metadata": {},
   "outputs": [
    {
     "name": "stdout",
     "output_type": "stream",
     "text": [
      "Matthew\n",
      "32\n",
      "Programmer\n"
     ]
    }
   ],
   "source": [
    "# You can print specific elements by calling the key\n",
    "\n",
    "print(person[\"name\"])\n",
    "print(person[\"age\"])\n",
    "print(person[\"job\"])"
   ]
  },
  {
   "cell_type": "markdown",
   "metadata": {},
   "source": [
    "## Deconstructing\n",
    "You can deconstruct dictionaries and separate their key and value pairs"
   ]
  },
  {
   "cell_type": "code",
   "execution_count": 104,
   "metadata": {},
   "outputs": [
    {
     "name": "stdout",
     "output_type": "stream",
     "text": [
      "name: Matthew\n",
      "age: 32\n",
      "job: Programmer\n"
     ]
    }
   ],
   "source": [
    "for i,v in person.items():\n",
    "    print(f\"{i}: {v}\")"
   ]
  },
  {
   "cell_type": "markdown",
   "metadata": {},
   "source": [
    "## Adding an entry\n",
    "You can add an entry just by adding a new key and entering its value"
   ]
  },
  {
   "cell_type": "code",
   "execution_count": 105,
   "metadata": {},
   "outputs": [
    {
     "name": "stdout",
     "output_type": "stream",
     "text": [
      "{'name': 'Matthew', 'age': '32', 'job': 'Programmer'}\n",
      "{'name': 'Matthew', 'age': '32', 'job': 'Programmer', 'birthday': 'April 22, 1991'}\n"
     ]
    }
   ],
   "source": [
    "print(person)\n",
    "person[\"birthday\"] = \"April 22, 1991\"\n",
    "print(person)"
   ]
  },
  {
   "cell_type": "markdown",
   "metadata": {},
   "source": [
    "## Wiping a dictionary"
   ]
  },
  {
   "cell_type": "code",
   "execution_count": 106,
   "metadata": {},
   "outputs": [
    {
     "name": "stdout",
     "output_type": "stream",
     "text": [
      "{'name': 'Matthew', 'age': '32', 'job': 'Programmer', 'birthday': 'April 22, 1991'}\n",
      "{}\n"
     ]
    }
   ],
   "source": [
    "print(person)\n",
    "person = {}\n",
    "print(person)"
   ]
  },
  {
   "cell_type": "code",
   "execution_count": 107,
   "metadata": {},
   "outputs": [
    {
     "name": "stdout",
     "output_type": "stream",
     "text": [
      "{'name': 'Matthew', 'age': '32', 'job': 'Programmer'}\n",
      "{'name': 'Matthew', 'age': '32'}\n"
     ]
    }
   ],
   "source": [
    "person ={\n",
    "    \"name\": \"Matthew\",\n",
    "    \"age\": \"32\",\n",
    "    \"job\": \"Programmer\"\n",
    "}\n",
    "print(person)\n",
    "person.pop(\"job\")\n",
    "print(person)"
   ]
  }
 ],
 "metadata": {
  "kernelspec": {
   "display_name": "Python 3",
   "language": "python",
   "name": "python3"
  },
  "language_info": {
   "codemirror_mode": {
    "name": "ipython",
    "version": 3
   },
   "file_extension": ".py",
   "mimetype": "text/x-python",
   "name": "python",
   "nbconvert_exporter": "python",
   "pygments_lexer": "ipython3",
   "version": "3.11.4"
  }
 },
 "nbformat": 4,
 "nbformat_minor": 2
}
