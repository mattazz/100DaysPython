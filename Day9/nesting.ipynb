{
 "cells": [
  {
   "cell_type": "markdown",
   "metadata": {},
   "source": [
    "# Nesting\n",
    "You can put lists / dicts / arrays into parent dicts or lists"
   ]
  },
  {
   "cell_type": "code",
   "execution_count": 74,
   "metadata": {},
   "outputs": [
    {
     "name": "stdout",
     "output_type": "stream",
     "text": [
      "fruits: {'apple': 1, 'strawberries': 5, 'mangos': 10}\n",
      "meats: {'lamb': 5, 'chicken': 10, 'beef': 20}\n",
      "branches: ['Scarborough', 'Markham', 'Pickering']\n"
     ]
    }
   ],
   "source": [
    "sample_dic = {\n",
    "    \"fruits\": {\"apple\": 1, \"strawberries\": 5, \"mangos\": 10},\n",
    "    \"meats\": {\"lamb\": 5, \"chicken\": 10, \"beef\": 20},\n",
    "    \"branches\": [\"Scarborough\", \"Markham\", \"Pickering\"]\n",
    "}\n",
    "\n",
    "for k, v in sample_dic.items():\n",
    "    print(f\"{k}: {v}\")"
   ]
  },
  {
   "cell_type": "code",
   "execution_count": 75,
   "metadata": {},
   "outputs": [
    {
     "name": "stdout",
     "output_type": "stream",
     "text": [
      "apple: 1\n",
      "strawberries: 5\n",
      "mangos: 10\n"
     ]
    }
   ],
   "source": [
    "for k, v in sample_dic[\"fruits\"].items():\n",
    "    print(f\"{k}: {v}\")\n",
    "    "
   ]
  },
  {
   "cell_type": "code",
   "execution_count": 76,
   "metadata": {},
   "outputs": [
    {
     "name": "stdout",
     "output_type": "stream",
     "text": [
      "France: {'cities_visited': ['Paris', 'Lille', 'Dijon']}\n",
      "Germany: ['Berlin', 'Hamburg', 'Stuttgart']\n"
     ]
    }
   ],
   "source": [
    "# Dictionary nested dictionary nested list\n",
    "travel_log = {\n",
    "    \"France\": {\"cities_visited\": [\"Paris\", \"Lille\", \"Dijon\"]},\n",
    "    \"Germany\": [\"Berlin\", \"Hamburg\", \"Stuttgart\"]\n",
    "}\n",
    "\n",
    "for k, v in travel_log.items():\n",
    "    print(f\"{k}: {v}\")"
   ]
  },
  {
   "cell_type": "markdown",
   "metadata": {},
   "source": [
    "### Nesting Dicts within lists"
   ]
  },
  {
   "cell_type": "code",
   "execution_count": 77,
   "metadata": {},
   "outputs": [
    {
     "name": "stdout",
     "output_type": "stream",
     "text": [
      "Printing list: {'country': ['France', 'Germany', 'Philippines']}\n",
      "Printing key value pairs within list: country: ['France', 'Germany', 'Philippines']\n"
     ]
    }
   ],
   "source": [
    "log = [{\"country\": [\"France\", \"Germany\", \"Philippines\"]}]\n",
    "\n",
    "for i in log:\n",
    "    print(f\"Printing list: {i}\")\n",
    "    for k, v in i.items():\n",
    "        print(f\"Printing key value pairs within list: {k}: {v}\")\n"
   ]
  },
  {
   "cell_type": "code",
   "execution_count": 78,
   "metadata": {},
   "outputs": [
    {
     "name": "stdout",
     "output_type": "stream",
     "text": [
      "My\n",
      "Name\n",
      "Is\n",
      "Matt\n"
     ]
    }
   ],
   "source": [
    "hello = [\"My\", \"Name\", \"Is\", \"Matt\"]\n",
    "for i in hello:\n",
    "    print(i)"
   ]
  }
 ],
 "metadata": {
  "kernelspec": {
   "display_name": "Python 3",
   "language": "python",
   "name": "python3"
  },
  "language_info": {
   "codemirror_mode": {
    "name": "ipython",
    "version": 3
   },
   "file_extension": ".py",
   "mimetype": "text/x-python",
   "name": "python",
   "nbconvert_exporter": "python",
   "pygments_lexer": "ipython3",
   "version": "3.11.4"
  }
 },
 "nbformat": 4,
 "nbformat_minor": 2
}
