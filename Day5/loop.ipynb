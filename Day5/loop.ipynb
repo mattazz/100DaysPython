{
 "cells": [
  {
   "cell_type": "markdown",
   "metadata": {},
   "source": [
    "# Learning Loops"
   ]
  },
  {
   "cell_type": "code",
   "execution_count": 8,
   "metadata": {},
   "outputs": [
    {
     "name": "stdout",
     "output_type": "stream",
     "text": [
      "apples\n",
      "oranges\n",
      "mangoes\n",
      "grapes\n"
     ]
    }
   ],
   "source": [
    "fruits = [\"apples\", \"oranges\", \"mangoes\", \"grapes\"]\n",
    "for fruit in fruits:\n",
    "    print(fruit)"
   ]
  },
  {
   "cell_type": "code",
   "execution_count": 9,
   "metadata": {},
   "outputs": [
    {
     "name": "stdout",
     "output_type": "stream",
     "text": [
      "0: apples\n",
      "1: oranges\n",
      "2: mangoes\n",
      "3: grapes\n"
     ]
    }
   ],
   "source": [
    "# I can also access the index of the list\n",
    "for i, v in enumerate(fruits):\n",
    "    print(f\"{i}: {v}\")"
   ]
  },
  {
   "cell_type": "code",
   "execution_count": 10,
   "metadata": {},
   "outputs": [
    {
     "name": "stdout",
     "output_type": "stream",
     "text": [
      "My age is 0\n",
      "My age is 1\n",
      "My age is 2\n",
      "My age is 3\n",
      "My age is 4\n",
      "My age is 5\n",
      "My age is 6\n",
      "My age is 7\n",
      "My age is 8\n",
      "My age is 9\n"
     ]
    }
   ],
   "source": [
    "#I can use ranges to act as an iterator\n",
    "for i in range(10):\n",
    "    print(f\"His age is {i}\")"
   ]
  }
 ],
 "metadata": {
  "kernelspec": {
   "display_name": "Python 3",
   "language": "python",
   "name": "python3"
  },
  "language_info": {
   "codemirror_mode": {
    "name": "ipython",
    "version": 3
   },
   "file_extension": ".py",
   "mimetype": "text/x-python",
   "name": "python",
   "nbconvert_exporter": "python",
   "pygments_lexer": "ipython3",
   "version": "3.11.4"
  }
 },
 "nbformat": 4,
 "nbformat_minor": 2
}
