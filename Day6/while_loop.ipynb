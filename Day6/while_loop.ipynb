{
 "cells": [
  {
   "cell_type": "markdown",
   "metadata": {},
   "source": [
    "# While Loops\n",
    "Will keep doing the loop while condition has not been reached\n",
    "\n"
   ]
  },
  {
   "cell_type": "code",
   "execution_count": 5,
   "metadata": {},
   "outputs": [
    {
     "name": "stdout",
     "output_type": "stream",
     "text": [
      "Starting hurdles!\n",
      "6 - Jump!\n",
      "5 - Jump!\n",
      "4 - Jump!\n",
      "3 - Jump!\n",
      "2 - Jump!\n",
      "1 - Jump!\n",
      "Hurdles finished!\n"
     ]
    }
   ],
   "source": [
    "number_of_hurdles = 6\n",
    "\n",
    "print(\"Starting hurdles!\")\n",
    "while number_of_hurdles > 0:\n",
    "    print(str(number_of_hurdles) + \" - Jump!\")\n",
    "    number_of_hurdles -= 1\n",
    "\n",
    "print(\"Hurdles finished!\")"
   ]
  }
 ],
 "metadata": {
  "kernelspec": {
   "display_name": "Python 3",
   "language": "python",
   "name": "python3"
  },
  "language_info": {
   "codemirror_mode": {
    "name": "ipython",
    "version": 3
   },
   "file_extension": ".py",
   "mimetype": "text/x-python",
   "name": "python",
   "nbconvert_exporter": "python",
   "pygments_lexer": "ipython3",
   "version": "3.11.4"
  }
 },
 "nbformat": 4,
 "nbformat_minor": 2
}
