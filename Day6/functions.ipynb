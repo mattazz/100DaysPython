{
 "cells": [
  {
   "cell_type": "markdown",
   "metadata": {},
   "source": [
    "# Learning about Functions\n",
    "Functions help group repetitive code into one definition"
   ]
  },
  {
   "cell_type": "markdown",
   "metadata": {},
   "source": [
    "## Hurdle Loop Challenge"
   ]
  },
  {
   "cell_type": "code",
   "execution_count": 173,
   "metadata": {},
   "outputs": [
    {
     "name": "stdout",
     "output_type": "stream",
     "text": [
      "[' ', ' ', ' ', ' ', ' ']\n",
      "[' ', ' ', ' ', ' ', ' ']\n",
      "[' ', ' ', ' ', ' ', ' ']\n",
      "[' ', ' ', ' ', ' ', ' ']\n",
      "[' ', ' ', ' ', ' ', ' ']\n"
     ]
    }
   ],
   "source": [
    "map = [[\" \", \" \", \" \", \" \", \" \"],[\" \", \" \", \" \", \" \", \" \"],[\" \", \" \", \" \", \" \", \" \"],[\" \", \" \", \" \", \" \", \" \"],[\" \", \" \", \" \", \" \", \" \"]] # 5x5 grid\n",
    "\n",
    "def print_map():\n",
    "    global map\n",
    "    for i in map:\n",
    "        print(i)\n",
    "print_map()"
   ]
  },
  {
   "cell_type": "code",
   "execution_count": 174,
   "metadata": {},
   "outputs": [
    {
     "name": "stdout",
     "output_type": "stream",
     "text": [
      "Clearing previous loc [4, 0]\n",
      "Updating current loc [4, 0]\n",
      "prev: [4, 0], current: [4, 0]\n",
      "[' ', ' ', ' ', ' ', ' ']\n",
      "[' ', ' ', ' ', ' ', ' ']\n",
      "[' ', ' ', ' ', ' ', ' ']\n",
      "[' ', ' ', ' ', ' ', ' ']\n",
      "['X', ' ', ' ', ' ', ' ']\n"
     ]
    }
   ],
   "source": [
    "# Add player to lower left (4, 0)\n",
    "loc = [4,0]  # robot location\n",
    "prev_loc = [4,0] # Previous location\n",
    "def update_map(map):\n",
    "    global prev_loc\n",
    "    global loc\n",
    "    # Clear prev location'\n",
    "    print(f\"Clearing previous loc {prev_loc}\")\n",
    "    map[prev_loc[0]][prev_loc[1]] = \" \"\n",
    "    print(f\"Updating current loc {loc}\")\n",
    "    map[loc[0]][loc[1]] = \"X\"\n",
    "    print(f\"prev: {prev_loc}, current: {loc}\")\n",
    "    prev_loc = loc\n",
    "        \n",
    "    \n",
    "\n",
    "update_map(map)\n",
    "print_map()"
   ]
  },
  {
   "cell_type": "code",
   "execution_count": 175,
   "metadata": {},
   "outputs": [],
   "source": [
    "# Movement Code\n",
    "def move_right(spaces):\n",
    "    loc[1] += spaces\n",
    "    update_map(map)\n",
    "    \n",
    "def move_left(spaces):\n",
    "    loc[1] -= spaces\n",
    "    update_map(map)\n",
    "    \n",
    "def move_up(spaces):\n",
    "    loc[0] -= spaces\n",
    "    update_map(map)\n",
    "    \n",
    "    \n",
    "def move_down(spaces):\n",
    "    loc[0] += spaces\n",
    "    update_map(map)\n",
    "    "
   ]
  },
  {
   "cell_type": "code",
   "execution_count": 176,
   "metadata": {},
   "outputs": [
    {
     "name": "stdout",
     "output_type": "stream",
     "text": [
      "Current location: \n",
      "Clearing previous loc [4, 0]\n",
      "Updating current loc [4, 0]\n",
      "prev: [4, 0], current: [4, 0]\n"
     ]
    }
   ],
   "source": [
    "print(f\"Current location: \")\n",
    "update_map(map)\n"
   ]
  },
  {
   "cell_type": "code",
   "execution_count": 177,
   "metadata": {},
   "outputs": [
    {
     "name": "stdout",
     "output_type": "stream",
     "text": [
      "Clearing previous loc [4, 1]\n",
      "Updating current loc [4, 1]\n",
      "prev: [4, 1], current: [4, 1]\n",
      "Clearing previous loc [3, 1]\n",
      "Updating current loc [3, 1]\n",
      "prev: [3, 1], current: [3, 1]\n",
      "Clearing previous loc [3, 2]\n",
      "Updating current loc [3, 2]\n",
      "prev: [3, 2], current: [3, 2]\n",
      "Clearing previous loc [2, 2]\n",
      "Updating current loc [2, 2]\n",
      "prev: [2, 2], current: [2, 2]\n",
      "Clearing previous loc [2, 3]\n",
      "Updating current loc [2, 3]\n",
      "prev: [2, 3], current: [2, 3]\n",
      "Clearing previous loc [1, 3]\n",
      "Updating current loc [1, 3]\n",
      "prev: [1, 3], current: [1, 3]\n",
      "[' ', ' ', ' ', ' ', ' ']\n",
      "[' ', ' ', ' ', 'X', ' ']\n",
      "[' ', ' ', 'X', 'X', ' ']\n",
      "[' ', 'X', 'X', ' ', ' ']\n",
      "['X', 'X', ' ', ' ', ' ']\n"
     ]
    }
   ],
   "source": [
    "move_right(1)\n",
    "move_up(1)\n",
    "move_right(1)\n",
    "move_up(1)\n",
    "move_right(1)\n",
    "move_up(1)\n",
    "\n",
    "print_map()\n"
   ]
  }
 ],
 "metadata": {
  "kernelspec": {
   "display_name": "Python 3",
   "language": "python",
   "name": "python3"
  },
  "language_info": {
   "codemirror_mode": {
    "name": "ipython",
    "version": 3
   },
   "file_extension": ".py",
   "mimetype": "text/x-python",
   "name": "python",
   "nbconvert_exporter": "python",
   "pygments_lexer": "ipython3",
   "version": "3.11.4"
  }
 },
 "nbformat": 4,
 "nbformat_minor": 2
}
