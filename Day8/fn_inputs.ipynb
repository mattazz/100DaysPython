{
 "cells": [
  {
   "cell_type": "markdown",
   "metadata": {},
   "source": [
    "# Functions with Inputs\n",
    "Functions allow us to package a block of code together, and repeat it in your script when necessary\n"
   ]
  },
  {
   "cell_type": "code",
   "execution_count": 16,
   "metadata": {},
   "outputs": [
    {
     "name": "stdout",
     "output_type": "stream",
     "text": [
      "Hello Matt!\n",
      "How do you do?\n",
      "Isn't the weather nice today?\n",
      "\n",
      "\n",
      "Hello Adi!\n",
      "How do you do?\n",
      "Isn't the weather nice today?\n"
     ]
    }
   ],
   "source": [
    "name = \"Matt\"\n",
    "\n",
    "def greet(name: str):\n",
    "    print(f\"Hello {name}!\")\n",
    "    print(\"How do you do?\")\n",
    "    print(\"Isn't the weather nice today?\")\n",
    "\n",
    "greet(name)\n",
    "\n",
    "print(\"\\n\")\n",
    "\n",
    "name = \"Adi\"\n",
    "greet(name)"
   ]
  },
  {
   "cell_type": "code",
   "execution_count": null,
   "metadata": {},
   "outputs": [],
   "source": []
  },
  {
   "cell_type": "markdown",
   "metadata": {},
   "source": [
    "# Positional vs Keyword Arguments\n"
   ]
  },
  {
   "cell_type": "code",
   "execution_count": 17,
   "metadata": {},
   "outputs": [
    {
     "name": "stdout",
     "output_type": "stream",
     "text": [
      "1 + 2 = 3\n"
     ]
    }
   ],
   "source": [
    "# More than 1 input\n",
    "def add_nums(a, b):\n",
    "    c = a + b\n",
    "    print(f\"{a} + {b} = {c}\")\n",
    "    \n",
    "a = 1\n",
    "b = 2\n",
    "add_nums(a,b)"
   ]
  },
  {
   "cell_type": "code",
   "execution_count": 18,
   "metadata": {},
   "outputs": [
    {
     "name": "stdout",
     "output_type": "stream",
     "text": [
      "Hello Matt, you are 32 years old and currently in Toronto\n"
     ]
    }
   ],
   "source": [
    "# You can just put one argument as as tuple and unpack the tuple within the function\n",
    "\n",
    "data = (\"Matt\", 32, \"Toronto\")\n",
    "\n",
    "def bio(data):\n",
    "    name, age, location = data\n",
    "    print(f\"Hello {name}, you are {age} years old and currently in {location}\")\n",
    "    \n",
    "bio(data)"
   ]
  },
  {
   "cell_type": "markdown",
   "metadata": {},
   "source": [
    "### Keyword Arguments\n",
    "You can use keyword arguments so that you can disregard positions in your argument. \n",
    "This makes typing longer but more accurate. Use either one depending on your needs."
   ]
  },
  {
   "cell_type": "code",
   "execution_count": 19,
   "metadata": {},
   "outputs": [
    {
     "name": "stdout",
     "output_type": "stream",
     "text": [
      "Hello Adi\n",
      "You are a Paladin Elf \n"
     ]
    }
   ],
   "source": [
    "def character(name, cls, race):\n",
    "    print(f\"Hello {name}\")\n",
    "    print(f\"You are a {cls} {race} \")\n",
    "\n",
    "\n",
    "character(race=\"Elf\", name=\"Adi\", cls=\"Paladin\")    \n"
   ]
  }
 ],
 "metadata": {
  "kernelspec": {
   "display_name": "Python 3",
   "language": "python",
   "name": "python3"
  },
  "language_info": {
   "codemirror_mode": {
    "name": "ipython",
    "version": 3
   },
   "file_extension": ".py",
   "mimetype": "text/x-python",
   "name": "python",
   "nbconvert_exporter": "python",
   "pygments_lexer": "ipython3",
   "version": "3.11.4"
  }
 },
 "nbformat": 4,
 "nbformat_minor": 2
}
